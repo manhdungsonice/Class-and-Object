{
 "cells": [
  {
   "cell_type": "code",
   "execution_count": null,
   "id": "a42fa0c7",
   "metadata": {},
   "outputs": [],
   "source": [
    "\"\"\"\n",
    "Tạo class có tên Equation gồm có các thuộc tính và phương thức sau:\n",
    "+ Thuộc tính: number1, number2\n",
    "+ Phương thức:\n",
    "- Phương thức tạo __init()__\n",
    "- print_info(): dùng để hiển thị number1, number2\n",
    "- add(): dùng để cộng number1, number2\n",
    "- subtract(): trừ number1, number2\n",
    "- multiply(): dùng để nhân number1, number2\n",
    "- divide(): dùng để chia number1, number2.\n",
    "\n",
    "Sau khi tạo class, khởi tạo một object Equation và in ra kết quả tính toán từ các hàm thực hiện phép tính\n",
    "\"\"\""
   ]
  },
  {
   "cell_type": "code",
   "execution_count": 1,
   "id": "b49b0df5",
   "metadata": {},
   "outputs": [
    {
     "name": "stdout",
     "output_type": "stream",
     "text": [
      "Tổng là: 14\n",
      "Hiệu là: -2\n",
      "Tích là: 48\n",
      "Thương là: 0.75\n"
     ]
    }
   ],
   "source": [
    "class Equation:\n",
    "    def __init__(self,number1,number2):\n",
    "        self.number1=number1\n",
    "        self.number2=number2\n",
    "    def print_info(self):\n",
    "        print(f\"Number1 là {self.number1}\\nNumber2 là {self.number2}.\")\n",
    "    def add(self):\n",
    "        return self.number1+self.number2\n",
    "    def subtract(self):\n",
    "        return self.number1-self.number2\n",
    "    def multiply(self):\n",
    "        return self.number1*self.number2\n",
    "    def divide(self):\n",
    "        return self.number1/self.number2\n",
    "#kiểm thử\n",
    "e1=Equation(6,8)\n",
    "print(f\"Tổng là: {e1.add()}\")\n",
    "print(f\"Hiệu là: {e1.subtract()}\")\n",
    "print(f\"Tích là: {e1.multiply()}\")\n",
    "print(f\"Thương là: {e1.divide()}\")"
   ]
  }
 ],
 "metadata": {
  "kernelspec": {
   "display_name": "Python 3 (ipykernel)",
   "language": "python",
   "name": "python3"
  },
  "language_info": {
   "codemirror_mode": {
    "name": "ipython",
    "version": 3
   },
   "file_extension": ".py",
   "mimetype": "text/x-python",
   "name": "python",
   "nbconvert_exporter": "python",
   "pygments_lexer": "ipython3",
   "version": "3.12.2"
  }
 },
 "nbformat": 4,
 "nbformat_minor": 5
}
