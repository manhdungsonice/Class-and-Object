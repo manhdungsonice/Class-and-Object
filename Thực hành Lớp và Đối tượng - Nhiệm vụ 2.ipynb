{
 "cells": [
  {
   "cell_type": "code",
   "execution_count": null,
   "id": "1b7705b3",
   "metadata": {},
   "outputs": [],
   "source": [
    "\"\"\"\n",
    "Viết class NhanVien gồm các thuộc tính:\n",
    "+ Tên\n",
    "+ Tuổi\n",
    "+ Địa chỉ\n",
    "+ Tiền lương\n",
    "+ Tổng số giờ làm\n",
    "\n",
    "Và các phương thức:\n",
    "- Phương thức __init__()\n",
    "- print_info() : In ra tất cả các thông tin của nhân viên\n",
    "- tinh_thuong(): Tính toán và trả về số tiền thưởng của nhân viên theo công thức sau:\n",
    "Nếu tổng số giờ làm của nhân viên >=200 thì thưởng = lương * 20%\n",
    "Nếu tổng số giờ làm của nhân viên <200 và >=100 thì thưởng = lương * 10%\n",
    "Nếu tổng số giờ làm của nhân viên <100 thì thưởng = 0\n",
    "\"\"\""
   ]
  },
  {
   "cell_type": "code",
   "execution_count": 2,
   "id": "3cf0f41d",
   "metadata": {},
   "outputs": [
    {
     "name": "stdout",
     "output_type": "stream",
     "text": [
      "Tên của nhân viên là Kevin.\n",
      "Tuổi của nhân viên là 40 tuổi.\n",
      "Địa chỉ của nhân viên là Manchester City.\n",
      "Tiền lương của nhân viên là 300 $.\n",
      "Tổng số giờ làm của nhân viên là 2500 giờ.\n",
      "Tiền thưởng của Kevin là 60.0 USD.\n"
     ]
    }
   ],
   "source": [
    "class NhanVien:\n",
    "    def __init__(self, ten, tuoi, dia_chi, tien_luong, tong_so_gio_lam):\n",
    "        self.ten = ten\n",
    "        self.tuoi = tuoi\n",
    "        self.dia_chi = dia_chi\n",
    "        self.tien_luong = tien_luong\n",
    "        self.tong_so_gio_lam = tong_so_gio_lam\n",
    "    def print_info(self):\n",
    "        print(f\"Tên của nhân viên là {self.ten}.\")\n",
    "        print(f\"Tuổi của nhân viên là {self.tuoi} tuổi.\")\n",
    "        print(f\"Địa chỉ của nhân viên là {self.dia_chi}.\")\n",
    "        print(f\"Tiền lương của nhân viên là {self.tien_luong} $.\")\n",
    "        print(f\"Tổng số giờ làm của nhân viên là {self.tong_so_gio_lam} giờ.\")\n",
    "    def tinh_thuong(self):\n",
    "        if self.tong_so_gio_lam >=200:\n",
    "            thuong = self.tien_luong * 0.2\n",
    "        elif self.tong_so_gio_lam >=100:\n",
    "            thuong = self.tien_luong * 0.1\n",
    "        else:\n",
    "            thuong=0\n",
    "        return thuong\n",
    "    \n",
    "nhan_vien_1 = NhanVien(\"Kevin\", 40, \"Manchester City\", 300, 2500)\n",
    "nhan_vien_1.print_info()\n",
    "print(f\"Tiền thưởng của {nhan_vien_1.ten} là {nhan_vien_1.tinh_thuong()} USD.\")"
   ]
  }
 ],
 "metadata": {
  "kernelspec": {
   "display_name": "Python 3 (ipykernel)",
   "language": "python",
   "name": "python3"
  },
  "language_info": {
   "codemirror_mode": {
    "name": "ipython",
    "version": 3
   },
   "file_extension": ".py",
   "mimetype": "text/x-python",
   "name": "python",
   "nbconvert_exporter": "python",
   "pygments_lexer": "ipython3",
   "version": "3.12.2"
  }
 },
 "nbformat": 4,
 "nbformat_minor": 5
}
